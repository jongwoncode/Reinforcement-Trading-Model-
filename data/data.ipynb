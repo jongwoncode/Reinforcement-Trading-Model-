{
 "cells": [
  {
   "attachments": {},
   "cell_type": "markdown",
   "metadata": {},
   "source": [
    "# 데이터 수집 및 저장"
   ]
  },
  {
   "cell_type": "code",
   "execution_count": 2,
   "metadata": {},
   "outputs": [],
   "source": [
    "import os\n",
    "import pandas as pd\n",
    "import numpy as np\n",
    "import FinanceDataReader as fdr"
   ]
  },
  {
   "attachments": {},
   "cell_type": "markdown",
   "metadata": {},
   "source": [
    "* samsung : '000210'\n",
    "* date    : 20150101 ~ 20221220"
   ]
  },
  {
   "cell_type": "code",
   "execution_count": 5,
   "metadata": {},
   "outputs": [],
   "source": [
    "samsung = fdr.DataReader('000210', start='20150101', end='20221220')\n",
    "samsung.reset_index(inplace=True, )\n",
    "samsung.to_csv('000210.csv', header=True, index=False)\n",
    "\n",
    "hyundai = fdr.DataReader('000210', start='20150101', end='20221220')\n",
    "hyundai.reset_index(inplace=True, )\n",
    "hyundai.to_csv('005380.csv', header=True, index=False)"
   ]
  },
  {
   "cell_type": "code",
   "execution_count": null,
   "metadata": {},
   "outputs": [],
   "source": []
  },
  {
   "cell_type": "code",
   "execution_count": null,
   "metadata": {},
   "outputs": [],
   "source": []
  },
  {
   "cell_type": "code",
   "execution_count": null,
   "metadata": {},
   "outputs": [],
   "source": []
  }
 ],
 "metadata": {
  "kernelspec": {
   "display_name": "rlproject",
   "language": "python",
   "name": "python3"
  },
  "language_info": {
   "codemirror_mode": {
    "name": "ipython",
    "version": 3
   },
   "file_extension": ".py",
   "mimetype": "text/x-python",
   "name": "python",
   "nbconvert_exporter": "python",
   "pygments_lexer": "ipython3",
   "version": "3.10.8"
  },
  "orig_nbformat": 4,
  "vscode": {
   "interpreter": {
    "hash": "5f0f2bf357f4b0a20c817eea067d79d9a058f1349792717818b711227731d1ea"
   }
  }
 },
 "nbformat": 4,
 "nbformat_minor": 2
}
